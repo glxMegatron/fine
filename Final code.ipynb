{
 "cells": [
  {
   "cell_type": "markdown",
   "metadata": {},
   "source": [
    "## 5400 Group Project - Group 11"
   ]
  },
  {
   "cell_type": "markdown",
   "metadata": {},
   "source": [
    "### This is the code where we used MongoDB and Spark for ETL and flask for front-end development"
   ]
  },
  {
   "cell_type": "markdown",
   "metadata": {},
   "source": [
    "### Back-End: ETL in Spark and Mongodb"
   ]
  },
  {
   "cell_type": "markdown",
   "metadata": {},
   "source": [
    "    Process and store the downloaded csv data used for this project in spark and mongodb"
   ]
  },
  {
   "cell_type": "markdown",
   "metadata": {},
   "source": [
    "Data Preprocessing in Spark"
   ]
  },
  {
   "cell_type": "code",
   "execution_count": null,
   "metadata": {},
   "outputs": [],
   "source": [
    "%pip install pyspark"
   ]
  },
  {
   "cell_type": "code",
   "execution_count": null,
   "metadata": {},
   "outputs": [],
   "source": [
    "# from pyspark.sql import SparkSession\n",
    "\n",
    "# spark = SparkSession.builder.getOrCreate()\n",
    "# sc = spark.sparkContext\n",
    "# print(\"Using Apache Spark Version\", spark.version)\n",
    "\n",
    "# import os, sys\n",
    "\n",
    "# os.environ['PYSPARK_PYTHON'] = sys.executable\n",
    "# os.environ['PYSPARK_DRIVER_PYTHON'] = sys.executable"
   ]
  },
  {
   "cell_type": "code",
   "execution_count": 1,
   "metadata": {},
   "outputs": [],
   "source": [
    "# from pymongo import MongoClient\n",
    "# client = MongoClient('localhost',27017) \n",
    "# db = client.apan5400 \n",
    "# collection_name = 'project' # The collection is called 'project'\n",
    "# collection = db.collection_name"
   ]
  },
  {
   "cell_type": "code",
   "execution_count": 1,
   "metadata": {},
   "outputs": [
    {
     "name": "stdout",
     "output_type": "stream",
     "text": [
      ":: loading settings :: url = jar:file:/Library/Frameworks/Python.framework/Versions/3.12/lib/python3.12/site-packages/pyspark/jars/ivy-2.5.1.jar!/org/apache/ivy/core/settings/ivysettings.xml\n"
     ]
    },
    {
     "name": "stderr",
     "output_type": "stream",
     "text": [
      "Ivy Default Cache set to: /Users/apple/.ivy2/cache\n",
      "The jars for the packages stored in: /Users/apple/.ivy2/jars\n",
      "org.mongodb.spark#mongo-spark-connector_2.12 added as a dependency\n",
      ":: resolving dependencies :: org.apache.spark#spark-submit-parent-a0f7be36-f48e-4249-bd88-f952f69c55ba;1.0\n",
      "\tconfs: [default]\n",
      "\tfound org.mongodb.spark#mongo-spark-connector_2.12;3.0.1 in central\n",
      "\tfound org.mongodb#mongodb-driver-sync;4.0.5 in central\n",
      "\tfound org.mongodb#bson;4.0.5 in central\n",
      "\tfound org.mongodb#mongodb-driver-core;4.0.5 in central\n",
      ":: resolution report :: resolve 525ms :: artifacts dl 32ms\n",
      "\t:: modules in use:\n",
      "\torg.mongodb#bson;4.0.5 from central in [default]\n",
      "\torg.mongodb#mongodb-driver-core;4.0.5 from central in [default]\n",
      "\torg.mongodb#mongodb-driver-sync;4.0.5 from central in [default]\n",
      "\torg.mongodb.spark#mongo-spark-connector_2.12;3.0.1 from central in [default]\n",
      "\t---------------------------------------------------------------------\n",
      "\t|                  |            modules            ||   artifacts   |\n",
      "\t|       conf       | number| search|dwnlded|evicted|| number|dwnlded|\n",
      "\t---------------------------------------------------------------------\n",
      "\t|      default     |   4   |   0   |   0   |   0   ||   4   |   0   |\n",
      "\t---------------------------------------------------------------------\n",
      ":: retrieving :: org.apache.spark#spark-submit-parent-a0f7be36-f48e-4249-bd88-f952f69c55ba\n",
      "\tconfs: [default]\n",
      "\t0 artifacts copied, 4 already retrieved (0kB/17ms)\n",
      "24/05/02 23:17:52 WARN NativeCodeLoader: Unable to load native-hadoop library for your platform... using builtin-java classes where applicable\n",
      "Setting default log level to \"WARN\".\n",
      "To adjust logging level use sc.setLogLevel(newLevel). For SparkR, use setLogLevel(newLevel).\n"
     ]
    }
   ],
   "source": [
    "from pyspark.sql import SparkSession\n",
    "\n",
    "# Initialize Spark Session with MongoDB Connector\n",
    "spark = SparkSession.builder \\\n",
    "    .appName(\"DataFrame to MongoDB\") \\\n",
    "    .config(\"spark.driver.memory\",\"6g\") \\\n",
    "    .config(\"spark.mongodb.input.uri\", \"mongodb://localhost:27017/apan5400.project\") \\\n",
    "    .config(\"spark.mongodb.output.uri\", \"mongodb://localhost:27017/apan5400.project\") \\\n",
    "    .config(\"spark.jars.packages\", \"org.mongodb.spark:mongo-spark-connector_2.12:3.0.1\") \\\n",
    "    .getOrCreate()"
   ]
  },
  {
   "cell_type": "code",
   "execution_count": 2,
   "metadata": {},
   "outputs": [],
   "source": [
    "# Deinfe a function to manipulate columns: delete useless columns and rename columns\n",
    "from pyspark.sql import DataFrame # import functions needed\n",
    "\n",
    "def cleaned_sp(data: DataFrame) -> DataFrame:\n",
    "    \"\"\"\n",
    "    Process the input DataFrame by renaming a column and dropping several others,\n",
    "    preparing it for insertion into MongoDB.\n",
    "\n",
    "    Args:\n",
    "    data (DataFrame): The input Spark DataFrame.\n",
    "\n",
    "    Returns:\n",
    "    DataFrame: The processed Spark DataFrame ready for MongoDB insertion.\n",
    "    \"\"\"\n",
    "    # rename the column 'Violation' with 'Violation Description' for user purpose\n",
    "    renamed = data.withColumnRenamed('Violation', 'Description')\n",
    "    # list of columns to drop\n",
    "    dropped = ['Judgment Entry Date', 'Precinct', 'County', 'Issuing Agency', 'Violation Status']\n",
    "    # drop the columns listed above\n",
    "    cleaned = renamed.drop(*dropped)\n",
    "    # return the converted data\n",
    "    return cleaned"
   ]
  },
  {
   "cell_type": "code",
   "execution_count": 3,
   "metadata": {},
   "outputs": [
    {
     "name": "stderr",
     "output_type": "stream",
     "text": [
      "                                                                                \r"
     ]
    }
   ],
   "source": [
    "data = spark.read.option(\"header\", \"true\") \\\n",
    "                   .option(\"delimiter\", \",\") \\\n",
    "                   .option(\"inferSchema\", \"true\") \\\n",
    "                   .csv(\"/Users/apple/Desktop/54 project/subset_1_5gb.csv\")\n",
    "\n",
    "# Process and convert data\n",
    "cleaned_data = cleaned_sp(data)"
   ]
  },
  {
   "cell_type": "code",
   "execution_count": 11,
   "metadata": {},
   "outputs": [
    {
     "name": "stderr",
     "output_type": "stream",
     "text": [
      "[Stage 2:===========================================>              (9 + 3) / 12]\r"
     ]
    },
    {
     "name": "stdout",
     "output_type": "stream",
     "text": [
      "5203278\n",
      "['Plate', 'State', 'License Type', 'Summons Number', 'Issue Date', 'Violation Time', 'Description', 'Fine Amount', 'Penalty Amount', 'Interest Amount', 'Reduction Amount', 'Payment Amount', 'Amount Due', 'Summons Image']\n"
     ]
    },
    {
     "name": "stderr",
     "output_type": "stream",
     "text": [
      "                                                                                \r"
     ]
    }
   ],
   "source": [
    "# Inspect the cleaned data\n",
    "print(cleaned_data.count())\n",
    "print(cleaned_data.columns)"
   ]
  },
  {
   "cell_type": "markdown",
   "metadata": {},
   "source": [
    "Data Storage in Mongodb"
   ]
  },
  {
   "cell_type": "code",
   "execution_count": null,
   "metadata": {},
   "outputs": [],
   "source": [
    "%pip install setuptools"
   ]
  },
  {
   "cell_type": "code",
   "execution_count": null,
   "metadata": {},
   "outputs": [],
   "source": [
    "from pyspark.sql import DataFrame\n",
    "import pandas as pd\n",
    "\n",
    "def convert_to_mongo_docs(spark_df: DataFrame) -> list:\n",
    "    try:\n",
    "     # Convert Spark DataFrame to Pandas DataFrame\n",
    "     cleaned_data_pd = cleaned_data.toPandas()\n",
    "     print(\"Converted Spark DataFrame to Pandas DataFrame.\")\n",
    "    except Exception as e:\n",
    "        print(f\"Failed to convert to Pandas DataFrame: {e}\")\n",
    "\n",
    "    # Convert Pandas DataFrame to list of dictionaries\n",
    "    data_dicts = cleaned_data_pd.to_dict('records')\n",
    "    print(\"Converted Pandas DataFrame to list of dictionaries.\")\n",
    "\n",
    "    return data_dicts"
   ]
  },
  {
   "cell_type": "code",
   "execution_count": null,
   "metadata": {},
   "outputs": [],
   "source": [
    "convert_to_mongo_docs(cleaned_data)"
   ]
  },
  {
   "cell_type": "code",
   "execution_count": null,
   "metadata": {},
   "outputs": [],
   "source": [
    "# # convert cleaned data to dicts for MongoDB insertion\n",
    "# import pandas as pd\n",
    "\n",
    "# try:\n",
    "#      # Convert Spark DataFrame to Pandas DataFrame\n",
    "#      cleaned_data_pd = cleaned_data.toPandas()\n",
    "#      print(\"Converted Spark DataFrame to Pandas DataFrame.\")\n",
    "# except Exception as e:\n",
    "#      print(f\"Failed to convert to Pandas DataFrame: {e}\")\n",
    "\n",
    "#  # Convert Pandas DataFrame to list of dictionaries\n",
    "# data_dicts = cleaned_data_pd.to_dict('records')\n",
    "# print(\"Converted Pandas DataFrame to list of dictionaries.\")"
   ]
  },
  {
   "cell_type": "code",
   "execution_count": null,
   "metadata": {},
   "outputs": [],
   "source": [
    "# method 2: use Spark MongoDB connector\n",
    "# Write the processed data to MongoDB\n",
    "# cleaned_data.write.format(\"mongodb\").mode(\"overwrite\").save()\n",
    "\n",
    "# Stop the Spark session\n",
    "# spark.stop()"
   ]
  },
  {
   "cell_type": "markdown",
   "metadata": {},
   "source": [
    "    Enable the update function in mongodb so that database administrators can update the datasource driectly fetched from API url according on demand. "
   ]
  },
  {
   "cell_type": "code",
   "execution_count": 5,
   "metadata": {},
   "outputs": [],
   "source": [
    "# Define a function to fetch data directly from the API url on NYC Open Data website\n",
    "import requests # import functions needed\n",
    "from pyspark.sql import SparkSession\n",
    "from pyspark.sql import Row\n",
    "\n",
    "def fetch_data_api():\n",
    "    # Data fetched from this API url below will be in csv format\n",
    "    api_url = 'https://data.cityofnewyork.us/resource/nc67-uf89.csv'\n",
    "\n",
    "    response = requests.get(api_url) # Send GET request to the API\n",
    "    response.raise_for_status()  # Exception for HTTP errors\n",
    "\n",
    "    # Save the CSV data to a local file\n",
    "    with open('data.csv', 'w') as file:\n",
    "        file.write(response.text)\n",
    "\n",
    "    # Initialize Spark Session\n",
    "    spark = SparkSession.builder.appName('Load CSV Data').getOrCreate()\n",
    "\n",
    "    # Load the CSV file into a DataFrame\n",
    "    df = spark.read.csv('data.csv', header=True, inferSchema=True)\n",
    "\n",
    "    return df"
   ]
  },
  {
   "cell_type": "code",
   "execution_count": null,
   "metadata": {},
   "outputs": [],
   "source": [
    "# Connect to mongodb\n",
    "from pymongo import MongoClient\n",
    "client = MongoClient('localhost',27017) \n",
    "db = client.apan5400 \n",
    "collection_name = 'project' # The collection is called 'project'\n",
    "\n",
    "# Check if the collection called 'project' exists, drop it if it does, o/w create a new one\n",
    "def recreate_collection():\n",
    "    # if the collection already exists\n",
    "    if collection_name in db.list_collection_names():\n",
    "        print(f\"Collection '{collection_name}' already exists. Dropping it now.\")\n",
    "        # drop the existing collection\n",
    "        db[collection_name].drop()\n",
    "    # if the collection does not exist\n",
    "    print(f\"Creating new collection '{collection_name}'.\")\n",
    "    # create a new collection for further data insertion\n",
    "    collection = db[collection_name]\n",
    "    return collection\n",
    "    \n",
    "# Function to insert data into the collection 'project'\n",
    "def insert_data(collection, data_dict):\n",
    "    try:\n",
    "        # insert documents\n",
    "        result = collection.insert_many(data_dict)\n",
    "        print(f\"Inserting documents into collection '{collection_name}'\")\n",
    "    except Exception as e:\n",
    "        print(f\"Error inserting data: {e}\")\n",
    "\n",
    "# Function to run the ETL process: fetch data from API and overwrite the data in mongodb\n",
    "def update_mongodb():\n",
    "    collection = recreate_collection()\n",
    "    data = fetch_data_api()\n",
    "    cleaned_data = cleaned_sp(data)\n",
    "    dicts=convert_to_mongo_docs(cleaned_data)\n",
    "    insert_data(collection, dicts)\n",
    "    print('Update Done')"
   ]
  },
  {
   "cell_type": "markdown",
   "metadata": {},
   "source": [
    "\n",
    "### Front-End: Flask "
   ]
  },
  {
   "cell_type": "code",
   "execution_count": null,
   "metadata": {},
   "outputs": [],
   "source": [
    "pip install Flask"
   ]
  },
  {
   "cell_type": "code",
   "execution_count": 3,
   "metadata": {},
   "outputs": [
    {
     "name": "stdout",
     "output_type": "stream",
     "text": [
      " * Serving Flask app ''\n",
      " * Debug mode: off\n"
     ]
    },
    {
     "name": "stderr",
     "output_type": "stream",
     "text": [
      "\u001b[31m\u001b[1mWARNING: This is a development server. Do not use it in a production deployment. Use a production WSGI server instead.\u001b[0m\n",
      " * Running on http://localhost:5002\n",
      "[2024-04-21 22:47:45,428] INFO in _internal: \u001b[31m\u001b[1mWARNING: This is a development server. Do not use it in a production deployment. Use a production WSGI server instead.\u001b[0m\n",
      " * Running on http://localhost:5002\n",
      "\u001b[33mPress CTRL+C to quit\u001b[0m\n",
      "[2024-04-21 22:47:45,430] INFO in _internal: \u001b[33mPress CTRL+C to quit\u001b[0m\n",
      "[2024-04-21 22:47:52,829] ERROR in app: Exception on / [GET]\n",
      "Traceback (most recent call last):\n",
      "  File \"/Library/Frameworks/Python.framework/Versions/3.12/lib/python3.12/site-packages/flask/app.py\", line 1463, in wsgi_app\n",
      "    response = self.full_dispatch_request()\n",
      "               ^^^^^^^^^^^^^^^^^^^^^^^^^^^^\n",
      "  File \"/Library/Frameworks/Python.framework/Versions/3.12/lib/python3.12/site-packages/flask/app.py\", line 872, in full_dispatch_request\n",
      "    rv = self.handle_user_exception(e)\n",
      "         ^^^^^^^^^^^^^^^^^^^^^^^^^^^^^\n",
      "  File \"/Library/Frameworks/Python.framework/Versions/3.12/lib/python3.12/site-packages/flask/app.py\", line 870, in full_dispatch_request\n",
      "    rv = self.dispatch_request()\n",
      "         ^^^^^^^^^^^^^^^^^^^^^^^\n",
      "  File \"/Library/Frameworks/Python.framework/Versions/3.12/lib/python3.12/site-packages/flask/app.py\", line 855, in dispatch_request\n",
      "    return self.ensure_sync(self.view_functions[rule.endpoint])(**view_args)  # type: ignore[no-any-return]\n",
      "           ^^^^^^^^^^^^^^^^^^^^^^^^^^^^^^^^^^^^^^^^^^^^^^^^^^^^^^^^^^^^^^^^^\n",
      "  File \"/var/folders/_v/6ns6nfqn7dl_yh0gcbtw0z3m0000gn/T/ipykernel_98257/2207039651.py\", line 23, in index\n",
      "    return render_template('/Users/apple/Desktop/54 project/html/templates/index.html')\n",
      "           ^^^^^^^^^^^^^^^^^^^^^^^^^^^^^^^^^^^^^^^^^^^^^^^^^^^^^^^^^^^^^^^^^^^^^^^^^^^^\n",
      "  File \"/Library/Frameworks/Python.framework/Versions/3.12/lib/python3.12/site-packages/flask/templating.py\", line 149, in render_template\n",
      "    template = app.jinja_env.get_or_select_template(template_name_or_list)\n",
      "               ^^^^^^^^^^^^^^^^^^^^^^^^^^^^^^^^^^^^^^^^^^^^^^^^^^^^^^^^^^^\n",
      "  File \"/Library/Frameworks/Python.framework/Versions/3.12/lib/python3.12/site-packages/jinja2/environment.py\", line 1081, in get_or_select_template\n",
      "    return self.get_template(template_name_or_list, parent, globals)\n",
      "           ^^^^^^^^^^^^^^^^^^^^^^^^^^^^^^^^^^^^^^^^^^^^^^^^^^^^^^^^^\n",
      "  File \"/Library/Frameworks/Python.framework/Versions/3.12/lib/python3.12/site-packages/jinja2/environment.py\", line 1010, in get_template\n",
      "    return self._load_template(name, globals)\n",
      "           ^^^^^^^^^^^^^^^^^^^^^^^^^^^^^^^^^^\n",
      "  File \"/Library/Frameworks/Python.framework/Versions/3.12/lib/python3.12/site-packages/jinja2/environment.py\", line 969, in _load_template\n",
      "    template = self.loader.load(self, name, self.make_globals(globals))\n",
      "               ^^^^^^^^^^^^^^^^^^^^^^^^^^^^^^^^^^^^^^^^^^^^^^^^^^^^^^^^\n",
      "  File \"/Library/Frameworks/Python.framework/Versions/3.12/lib/python3.12/site-packages/jinja2/loaders.py\", line 125, in load\n",
      "    source, filename, uptodate = self.get_source(environment, name)\n",
      "                                 ^^^^^^^^^^^^^^^^^^^^^^^^^^^^^^^^^^\n",
      "  File \"/Library/Frameworks/Python.framework/Versions/3.12/lib/python3.12/site-packages/flask/templating.py\", line 65, in get_source\n",
      "    return self._get_source_fast(environment, template)\n",
      "           ^^^^^^^^^^^^^^^^^^^^^^^^^^^^^^^^^^^^^^^^^^^^\n",
      "  File \"/Library/Frameworks/Python.framework/Versions/3.12/lib/python3.12/site-packages/flask/templating.py\", line 99, in _get_source_fast\n",
      "    raise TemplateNotFound(template)\n",
      "jinja2.exceptions.TemplateNotFound: /Users/apple/Desktop/54 project/html/templates/index.html\n",
      "127.0.0.1 - - [21/Apr/2024 22:47:52] \"\u001b[35m\u001b[1mGET / HTTP/1.1\u001b[0m\" 500 -\n",
      "[2024-04-21 22:47:52,833] INFO in _internal: 127.0.0.1 - - [21/Apr/2024 22:47:52] \"\u001b[35m\u001b[1mGET / HTTP/1.1\u001b[0m\" 500 -\n",
      "[2024-04-21 22:47:54,507] ERROR in app: Exception on / [GET]\n",
      "Traceback (most recent call last):\n",
      "  File \"/Library/Frameworks/Python.framework/Versions/3.12/lib/python3.12/site-packages/flask/app.py\", line 1463, in wsgi_app\n",
      "    response = self.full_dispatch_request()\n",
      "               ^^^^^^^^^^^^^^^^^^^^^^^^^^^^\n",
      "  File \"/Library/Frameworks/Python.framework/Versions/3.12/lib/python3.12/site-packages/flask/app.py\", line 872, in full_dispatch_request\n",
      "    rv = self.handle_user_exception(e)\n",
      "         ^^^^^^^^^^^^^^^^^^^^^^^^^^^^^\n",
      "  File \"/Library/Frameworks/Python.framework/Versions/3.12/lib/python3.12/site-packages/flask/app.py\", line 870, in full_dispatch_request\n",
      "    rv = self.dispatch_request()\n",
      "         ^^^^^^^^^^^^^^^^^^^^^^^\n",
      "  File \"/Library/Frameworks/Python.framework/Versions/3.12/lib/python3.12/site-packages/flask/app.py\", line 855, in dispatch_request\n",
      "    return self.ensure_sync(self.view_functions[rule.endpoint])(**view_args)  # type: ignore[no-any-return]\n",
      "           ^^^^^^^^^^^^^^^^^^^^^^^^^^^^^^^^^^^^^^^^^^^^^^^^^^^^^^^^^^^^^^^^^\n",
      "  File \"/var/folders/_v/6ns6nfqn7dl_yh0gcbtw0z3m0000gn/T/ipykernel_98257/2207039651.py\", line 23, in index\n",
      "    return render_template('/Users/apple/Desktop/54 project/html/templates/index.html')\n",
      "           ^^^^^^^^^^^^^^^^^^^^^^^^^^^^^^^^^^^^^^^^^^^^^^^^^^^^^^^^^^^^^^^^^^^^^^^^^^^^\n",
      "  File \"/Library/Frameworks/Python.framework/Versions/3.12/lib/python3.12/site-packages/flask/templating.py\", line 149, in render_template\n",
      "    template = app.jinja_env.get_or_select_template(template_name_or_list)\n",
      "               ^^^^^^^^^^^^^^^^^^^^^^^^^^^^^^^^^^^^^^^^^^^^^^^^^^^^^^^^^^^\n",
      "  File \"/Library/Frameworks/Python.framework/Versions/3.12/lib/python3.12/site-packages/jinja2/environment.py\", line 1081, in get_or_select_template\n",
      "    return self.get_template(template_name_or_list, parent, globals)\n",
      "           ^^^^^^^^^^^^^^^^^^^^^^^^^^^^^^^^^^^^^^^^^^^^^^^^^^^^^^^^^\n",
      "  File \"/Library/Frameworks/Python.framework/Versions/3.12/lib/python3.12/site-packages/jinja2/environment.py\", line 1010, in get_template\n",
      "    return self._load_template(name, globals)\n",
      "           ^^^^^^^^^^^^^^^^^^^^^^^^^^^^^^^^^^\n",
      "  File \"/Library/Frameworks/Python.framework/Versions/3.12/lib/python3.12/site-packages/jinja2/environment.py\", line 969, in _load_template\n",
      "    template = self.loader.load(self, name, self.make_globals(globals))\n",
      "               ^^^^^^^^^^^^^^^^^^^^^^^^^^^^^^^^^^^^^^^^^^^^^^^^^^^^^^^^\n",
      "  File \"/Library/Frameworks/Python.framework/Versions/3.12/lib/python3.12/site-packages/jinja2/loaders.py\", line 125, in load\n",
      "    source, filename, uptodate = self.get_source(environment, name)\n",
      "                                 ^^^^^^^^^^^^^^^^^^^^^^^^^^^^^^^^^^\n",
      "  File \"/Library/Frameworks/Python.framework/Versions/3.12/lib/python3.12/site-packages/flask/templating.py\", line 65, in get_source\n",
      "    return self._get_source_fast(environment, template)\n",
      "           ^^^^^^^^^^^^^^^^^^^^^^^^^^^^^^^^^^^^^^^^^^^^\n",
      "  File \"/Library/Frameworks/Python.framework/Versions/3.12/lib/python3.12/site-packages/flask/templating.py\", line 99, in _get_source_fast\n",
      "    raise TemplateNotFound(template)\n",
      "jinja2.exceptions.TemplateNotFound: /Users/apple/Desktop/54 project/html/templates/index.html\n",
      "127.0.0.1 - - [21/Apr/2024 22:47:54] \"\u001b[35m\u001b[1mGET / HTTP/1.1\u001b[0m\" 500 -\n",
      "[2024-04-21 22:47:54,526] INFO in _internal: 127.0.0.1 - - [21/Apr/2024 22:47:54] \"\u001b[35m\u001b[1mGET / HTTP/1.1\u001b[0m\" 500 -\n"
     ]
    }
   ],
   "source": [
    "import requests, json\n",
    "from flask import Flask, render_template, request, jsonify, redirect, url_for, flash\n",
    "from pymongo import MongoClient\n",
    "\n",
    "app = Flask(\"\")\n",
    "#don't delete this row\n",
    "app.secret_key = 'secret_key123'\n",
    "#response = requests.get('https://data.cityofnewyork.us/resource/nc67-uf89.json')\n",
    "\n",
    "client = MongoClient('localhost',27017) \n",
    "db = client.apan5400 \n",
    "collection = db.project\n",
    "\n",
    "@app.route('/', methods=['GET', 'POST'])\n",
    "def index():\n",
    "    if request.method == 'POST':\n",
    "        plate_number = request.form.get('plate')\n",
    "        state = request.form.get('state')\n",
    "        if not plate_number:\n",
    "            flash('Please enter a plate number.', 'error')\n",
    "            return redirect(url_for('index'))\n",
    "        return redirect(url_for('view_violations', plate=plate_number.strip()))\n",
    "    return render_template('index.html')\n",
    "\n",
    "@app.route('/view_violations/<plate>', methods=['GET'])\n",
    "def view_violations(plate):\n",
    "    violations = list(collection.find({\"Plate\": plate}, {'_id': 1, 'Issue Date': 1, 'Description': 1, 'Amount Due': 1}))\n",
    "    if not violations:\n",
    "        flash('No records found for the provided plate number.', 'error')\n",
    "        return redirect(url_for('index'))\n",
    "    return render_template('violations_new.html', plate=plate, violations=violations)\n",
    "\n",
    "\n",
    "@app.route('/view_by_summons', methods=['GET'])\n",
    "def view_by_summons():\n",
    "    summons_number = request.args.get('summons')\n",
    "    if summons_number:\n",
    "        # Assuming 'Summons Number' is stored as an integer in your MongoDB.\n",
    "        # If it's stored as a string, you should remove the int() cast.\n",
    "        violation = collection.find_one({\"Summons Number\": int(summons_number)}, {'_id': 0})\n",
    "\n",
    "        if not violation:\n",
    "            flash('No records found for the provided summons number.', 'error')\n",
    "            return redirect(url_for('index'))\n",
    "        \n",
    "        plate = violation.get('Plate')\n",
    "        issue_date = violation.get('Issue Date')\n",
    "\n",
    "        # Redirect to violation_detail with the found plate and issue date\n",
    "        return redirect(url_for('violation_detail', plate=plate, issue_date=issue_date.replace('/', '-')))\n",
    "    else:\n",
    "        flash('Please enter a summons number.', 'error')\n",
    "        return redirect(url_for('index'))\n",
    "\n",
    "\n",
    "\n",
    "@app.route('/violation_detail/<plate>/<issue_date>', methods=['GET'])\n",
    "def violation_detail(plate, issue_date):\n",
    "    from datetime import datetime\n",
    "     # Convert issue_date from '07-11-2019' to '07/11/2019'\n",
    "    formatted_issue_date = datetime.strptime(issue_date, '%m-%d-%Y').strftime('%m/%d/%Y')\n",
    "\n",
    "    # print(f\"Looking up violation for plate {plate} on date {formatted_issue_date}\")\n",
    "    violation = collection.find_one({\"Plate\": plate, \"Issue Date\": formatted_issue_date}, {'_id': 0})\n",
    "    # print(f\"Violation found: {violation}\")\n",
    "\n",
    "    if not violation:\n",
    "        flash('No details found for this violation.', 'error')\n",
    "        return redirect(url_for('view_violations', plate=plate))\n",
    "    \n",
    "    import ast\n",
    "        # If the summons image is stored as a string that looks like a dictionary\n",
    "    if violation and isinstance(violation.get('Summons Image'), str):\n",
    "        # Safely evaluate the string to a dictionary\n",
    "        try:\n",
    "            violation['Summons Image'] = ast.literal_eval(violation['Summons Image'])\n",
    "        except ValueError:\n",
    "            # If there is an error during evaluation, set it to None or {}\n",
    "            violation['Summons Image'] = None\n",
    "\n",
    "    # Render your violation_detail template here\n",
    "    return render_template('violation_detail.html', violation=violation, plate=plate, issue_date=formatted_issue_date)\n",
    "\n",
    "\n",
    "@app.route('/pay', methods=['GET'])\n",
    "def show_payment_form():\n",
    "    plate = request.args.get('plate', '')\n",
    "    issue_date = request.args.get('issue_date', '')\n",
    "    amount_due = request.args.get('amount_due', '0')\n",
    "    \n",
    "    print(f\"Received payment for plate {plate} on {issue_date} for amount ${amount_due}\")\n",
    "    \n",
    "    return render_template('payment_form.html', plate=plate, issue_date=issue_date, amount_due=amount_due)\n",
    "\n",
    "\n",
    "\n",
    "from flask import flash, redirect, url_for\n",
    "\n",
    "@app.route('/submit_payment', methods=['POST'])\n",
    "def submit_payment():\n",
    "    \n",
    "    from decimal import Decimal\n",
    "    # Extract the payment information from the form submission\n",
    "    plate = request.form.get('plate')\n",
    "    issue_date = request.form.get('issue_date')\n",
    "    amount_paid = Decimal(request.form.get('amount')).quantize(Decimal('0.01'))  # Round to 2 decimal places\n",
    "        # Simulate payment processing\n",
    "    print(f\"Processing payment for plate {plate} on {issue_date} for amount ${amount_paid}\")\n",
    "\n",
    "    # Fetch the current amount due from MongoDB\n",
    "    current_data = collection.find_one({\"Plate\": plate, \"Issue Date\": issue_date}, {'_id': 0, 'Amount Due': 1})\n",
    "\n",
    "    if current_data is None:\n",
    "        flash('No violation record found for this plate and date.', 'error')\n",
    "        return redirect(url_for('show_payment_form', plate=plate, issue_date=issue_date))\n",
    "\n",
    "    # Calculate the new amount due\n",
    "    current_amount_due = Decimal(str(current_data['Amount Due'])).quantize(Decimal('0.01'))  # Convert and round\n",
    "    new_amount_due = (current_amount_due - amount_paid).quantize(Decimal('0.01'))  # Calculate and round\n",
    "    new_amount_due = float(new_amount_due)\n",
    "\n",
    "    print(f\"Old Amount Due: ${current_amount_due}, Amount Paid: ${amount_paid}, New Amount Due: ${new_amount_due}\")\n",
    "\n",
    "    # Update the database with the new amount due\n",
    "    collection.update_one(\n",
    "        {\"Plate\": plate, \"Issue Date\": issue_date},\n",
    "        {\"$set\": {\"Amount Due\": new_amount_due}}\n",
    "    )\n",
    "    return render_template('submit_payment.html', plate=plate, issue_date=issue_date, amount_paid=amount_paid)\n",
    "\n",
    "\n",
    "app.run(host='localhost', port=5002) \n"
   ]
  }
 ],
 "metadata": {
  "kernelspec": {
   "display_name": "Python 3",
   "language": "python",
   "name": "python3"
  },
  "language_info": {
   "codemirror_mode": {
    "name": "ipython",
    "version": 3
   },
   "file_extension": ".py",
   "mimetype": "text/x-python",
   "name": "python",
   "nbconvert_exporter": "python",
   "pygments_lexer": "ipython3",
   "version": "3.12.1"
  }
 },
 "nbformat": 4,
 "nbformat_minor": 2
}
